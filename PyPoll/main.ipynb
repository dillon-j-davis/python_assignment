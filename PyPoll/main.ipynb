{
 "cells": [
  {
   "cell_type": "code",
   "execution_count": 4,
   "metadata": {},
   "outputs": [],
   "source": [
    "import os\n",
    "import csv"
   ]
  },
  {
   "cell_type": "code",
   "execution_count": 18,
   "metadata": {},
   "outputs": [
    {
     "name": "stdout",
     "output_type": "stream",
     "text": [
      "Election Results\n",
      "----------------------------\n",
      "Total Votes: 3521001\n",
      "----------------------------\n",
      "Khan: 63.0% (2218231)\n",
      "Correy: 20.0% (704200)\n",
      "Li: 14.0% (492940)\n",
      "O'Tooley: 3.0% (105630)\n",
      "----------------------------\n",
      "Winner: Khan\n",
      "----------------------------\n"
     ]
    }
   ],
   "source": [
    "filepath = os.path.join(\"Resources\", \"pypoll_data.csv\")\n",
    "with open (filepath, 'r') as file:\n",
    "    csvReader=csv.reader(file, delimiter=',')\n",
    "    next(csvReader)\n",
    "    #declare variables\n",
    "    khan_votes = 0\n",
    "    correy_votes = 0\n",
    "    otooley_votes = 0\n",
    "    li_votes = 0\n",
    "    total_votes = 0\n",
    "    winner = \"N/A\"\n",
    "    winner_votes = 0\n",
    "    #for loop to count each vote and add them to the corresponding candidate's total\n",
    "    for row in csvReader:\n",
    "        total_votes = total_votes + 1\n",
    "        if row[2] == \"Khan\":\n",
    "            khan_votes = khan_votes + 1\n",
    "        elif row[2] == \"Correy\":\n",
    "            correy_votes = correy_votes + 1\n",
    "        elif row[2] == \"O'Tooley\":\n",
    "            otooley_votes = otooley_votes + 1\n",
    "        elif row[2] == \"Li\":\n",
    "            li_votes = li_votes + 1\n",
    "    #the below if statement will set Khan as the winner by default and update his votes accordingly, after that it will evaluate\n",
    "    #the same way for other candidates and change them to the winner should they have more votes than Khan/the previous winner\n",
    "    #they are designed as separate if statements instead of using 'elif' in order to make sure each statement is evaluated\n",
    "    if(khan_votes > winner_votes):\n",
    "        winner = \"Khan\"\n",
    "        winner_votes = khan_votes\n",
    "    if(correy_votes > winner_votes):\n",
    "        winner = \"Correy\"\n",
    "        winner_votes = correy_votes\n",
    "    if(otooley_votes > winner_votes):\n",
    "        winner = \"O'Tooley\"\n",
    "        winner_votes = otooley_votes\n",
    "    if(li_votes > winner_votes):\n",
    "        winner = \"Li\"\n",
    "        winner_votes = li_votes\n",
    "    khan_percentage = round((khan_votes/total_votes)*100,3)\n",
    "    correy_percentage = round((correy_votes/total_votes)*100,3)\n",
    "    otooley_percentage = round((otooley_votes/total_votes)*100,3)\n",
    "    li_percentage = round((li_votes/total_votes)*100,3)\n",
    "    \n",
    "    \n",
    "#print statement    \n",
    "print(\"Election Results\")\n",
    "print(\"----------------------------\")\n",
    "print(f\"Total Votes: {total_votes}\")\n",
    "print(\"----------------------------\")\n",
    "print(f\"Khan: {khan_percentage}% ({khan_votes})\")\n",
    "print(f\"Correy: {correy_percentage}% ({correy_votes})\")\n",
    "print(f\"Li: {li_percentage}% ({li_votes})\")\n",
    "print(f\"O'Tooley: {otooley_percentage}% ({otooley_votes})\")\n",
    "print(\"----------------------------\")\n",
    "print(f\"Winner: {winner}\")\n",
    "print(\"----------------------------\")\n",
    "\n",
    "#Output to text file\n",
    "with open(\"PollResults.txt\", 'w') as text_file:\n",
    "    text_file.write(\"Election Results\\n\")\n",
    "    text_file.write(\"----------------------------\\n\")\n",
    "    text_file.write(f\"Total Votes: {total_votes}\\n\")\n",
    "    text_file.write(\"----------------------------\\n\")\n",
    "    text_file.write(f\"Khan: {khan_percentage}% ({khan_votes})\\n\")\n",
    "    text_file.write(f\"Correy: {correy_percentage}% ({correy_votes})\\n\")\n",
    "    text_file.write(f\"Li: {li_percentage}% ({li_votes})\\n\")\n",
    "    text_file.write(f\"O'Tooley: {otooley_percentage}% ({otooley_votes})\\n\")\n",
    "    text_file.write(\"----------------------------\\n\")\n",
    "    text_file.write(f\"Winner: {winner}\\n\")\n",
    "    text_file.write(\"----------------------------\\n\")\n",
    "                    \n",
    "    \n",
    "\n",
    "        \n",
    "        \n",
    "            \n",
    "            \n",
    "            "
   ]
  },
  {
   "cell_type": "code",
   "execution_count": null,
   "metadata": {},
   "outputs": [],
   "source": []
  }
 ],
 "metadata": {
  "kernelspec": {
   "display_name": "Python 3",
   "language": "python",
   "name": "python3"
  },
  "language_info": {
   "codemirror_mode": {
    "name": "ipython",
    "version": 3
   },
   "file_extension": ".py",
   "mimetype": "text/x-python",
   "name": "python",
   "nbconvert_exporter": "python",
   "pygments_lexer": "ipython3",
   "version": "3.8.5"
  }
 },
 "nbformat": 4,
 "nbformat_minor": 4
}
