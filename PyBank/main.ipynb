{
 "cells": [
  {
   "cell_type": "code",
   "execution_count": 17,
   "metadata": {},
   "outputs": [],
   "source": [
    "import os\n",
    "import csv"
   ]
  },
  {
   "cell_type": "code",
   "execution_count": 26,
   "metadata": {},
   "outputs": [
    {
     "name": "stdout",
     "output_type": "stream",
     "text": [
      "Profit/Losses\n",
      "867884\n",
      "984655\n",
      "322013\n",
      "-69417\n",
      "310503\n",
      "522857\n",
      "1033096\n",
      "604885\n",
      "-216386\n",
      "477532\n",
      "893810\n",
      "-80353\n",
      "779806\n",
      "-335203\n",
      "697845\n",
      "793163\n",
      "485070\n",
      "584122\n",
      "62729\n",
      "668179\n",
      "899906\n",
      "834719\n",
      "132003\n",
      "309978\n",
      "-755566\n",
      "1170593\n",
      "252788\n",
      "1151518\n",
      "817256\n",
      "570757\n",
      "506702\n",
      "-1022534\n",
      "475062\n",
      "779976\n",
      "144175\n",
      "542494\n",
      "359333\n",
      "321469\n",
      "67780\n",
      "471435\n",
      "565603\n",
      "872480\n",
      "789480\n",
      "999942\n",
      "-1196225\n",
      "268997\n",
      "-687986\n",
      "1150461\n",
      "682458\n",
      "617856\n",
      "824098\n",
      "581943\n",
      "132864\n",
      "448062\n",
      "689161\n",
      "800701\n",
      "1166643\n",
      "947333\n",
      "578668\n",
      "988505\n",
      "1139715\n",
      "1029471\n",
      "687533\n",
      "-524626\n",
      "158620\n",
      "87795\n",
      "423389\n",
      "840723\n",
      "568529\n",
      "332067\n",
      "989499\n",
      "778237\n",
      "650000\n",
      "-1100387\n",
      "-174946\n",
      "757143\n",
      "445709\n",
      "712961\n",
      "-1163797\n",
      "569899\n",
      "768450\n",
      "102685\n",
      "795914\n",
      "60988\n",
      "138230\n",
      "671099\n"
     ]
    }
   ],
   "source": [
    "#open/read file\n",
    "filePath = os.path.join('Resources','pybank_data.csv')\n",
    "with open(filePath, 'r') as file:\n",
    "    csvReader=csv.reader(file, delimiter=',')\n",
    "    #declare all needed variables\n",
    "    total_months = 0\n",
    "    net_change = 0\n",
    "    greatest_increase = 0\n",
    "    greatest_decrease = 0\n",
    "    monthly_change = 0\n",
    "    #each change in profit will be added to a list so the average change can be calculated later\n",
    "    changeList = []\n",
    "    #loop for each month. row[0] for months and row[1] for profit\n",
    "    for row in csvReader:\n",
    "        \n"
   ]
  },
  {
   "cell_type": "code",
   "execution_count": 19,
   "metadata": {},
   "outputs": [],
   "source": []
  },
  {
   "cell_type": "code",
   "execution_count": 21,
   "metadata": {},
   "outputs": [
    {
     "ename": "ValueError",
     "evalue": "I/O operation on closed file.",
     "output_type": "error",
     "traceback": [
      "\u001b[1;31m---------------------------------------------------------------------------\u001b[0m",
      "\u001b[1;31mValueError\u001b[0m                                Traceback (most recent call last)",
      "\u001b[1;32m<ipython-input-21-b8c7f05860c5>\u001b[0m in \u001b[0;36m<module>\u001b[1;34m\u001b[0m\n\u001b[0;32m      1\u001b[0m \u001b[1;31m#loop for each month\u001b[0m\u001b[1;33m\u001b[0m\u001b[1;33m\u001b[0m\u001b[1;33m\u001b[0m\u001b[0m\n\u001b[1;32m----> 2\u001b[1;33m \u001b[1;32mfor\u001b[0m \u001b[0mrow\u001b[0m \u001b[1;32min\u001b[0m \u001b[0mcsvReader\u001b[0m\u001b[1;33m:\u001b[0m\u001b[1;33m\u001b[0m\u001b[1;33m\u001b[0m\u001b[0m\n\u001b[0m\u001b[0;32m      3\u001b[0m     \u001b[0mprint\u001b[0m \u001b[1;33m(\u001b[0m\u001b[0mrow\u001b[0m\u001b[1;33m[\u001b[0m\u001b[1;36m0\u001b[0m\u001b[1;33m]\u001b[0m\u001b[1;33m)\u001b[0m\u001b[1;33m\u001b[0m\u001b[1;33m\u001b[0m\u001b[0m\n\u001b[0;32m      4\u001b[0m \u001b[1;33m\u001b[0m\u001b[0m\n\u001b[0;32m      5\u001b[0m \u001b[1;33m\u001b[0m\u001b[0m\n",
      "\u001b[1;31mValueError\u001b[0m: I/O operation on closed file."
     ]
    }
   ],
   "source": [
    "#loop for each month\n",
    "for row in csvReader:\n",
    "    print (row[0])\n",
    "    \n",
    "    "
   ]
  },
  {
   "cell_type": "code",
   "execution_count": null,
   "metadata": {},
   "outputs": [],
   "source": []
  }
 ],
 "metadata": {
  "kernelspec": {
   "display_name": "Python 3",
   "language": "python",
   "name": "python3"
  },
  "language_info": {
   "codemirror_mode": {
    "name": "ipython",
    "version": 3
   },
   "file_extension": ".py",
   "mimetype": "text/x-python",
   "name": "python",
   "nbconvert_exporter": "python",
   "pygments_lexer": "ipython3",
   "version": "3.8.5"
  }
 },
 "nbformat": 4,
 "nbformat_minor": 4
}
