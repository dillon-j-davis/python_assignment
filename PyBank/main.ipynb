{
 "cells": [
  {
   "cell_type": "code",
   "execution_count": 17,
   "metadata": {},
   "outputs": [],
   "source": [
    "import os\n",
    "import csv"
   ]
  },
  {
   "cell_type": "code",
   "execution_count": 60,
   "metadata": {},
   "outputs": [
    {
     "name": "stdout",
     "output_type": "stream",
     "text": [
      "Financial Analysis\n",
      "----------------------------\n",
      "Total Months: 86\n",
      "Total: $38382578\n",
      "Average Change: $446309.05\n",
      "Greatest Increase in Profits: Feb-2012 (1170593)\n",
      "Greatest Decrease in Profits: Sep-2013 (-1196225)\n"
     ]
    }
   ],
   "source": [
    "#open/read file\n",
    "filePath = os.path.join('Resources','pybank_data.csv')\n",
    "with open(filePath, 'r') as file:\n",
    "    csvReader=csv.reader(file, delimiter=',')\n",
    "    next(csvReader)\n",
    "    #declare all needed variables\n",
    "    total_months = 0\n",
    "    net_change = 0\n",
    "    #greatest increase and greatest decrease are saved in lists so the month can be associated with the amount\n",
    "    greatest_increase = 0\n",
    "    greatest_decrease = 0\n",
    "    #declaring two strings where \"N/A\" will be replaced by the month inside the for loop\n",
    "    greatest_increase_month = \"N/A\"\n",
    "    greatest_decrease_month = \"N/A\"\n",
    "    monthly_change = 0\n",
    "    #new_change\n",
    "    #each change in profit will be added to a list so the average change can be calculated later\n",
    "    changeList = []\n",
    "    \n",
    "    \n",
    "        \n",
    "   \n",
    "    #loop for each month. row[0] for months and row[1] for profit\n",
    "    for row in csvReader:\n",
    "        new_change = int(row[1])\n",
    "        total_months = total_months + 1\n",
    "        net_change = net_change + new_change\n",
    "        changeList.append(new_change)\n",
    "        if new_change > greatest_increase:\n",
    "            greatest_increase = new_change\n",
    "            greatest_increase_month = row[0]\n",
    "        elif new_change < greatest_decrease:\n",
    "            greatest_decrease = new_change\n",
    "            greatest_decrease_month = row[0]\n",
    "average_change = round(net_change/total_months,2)\n",
    "print(\"Financial Analysis\")\n",
    "print(\"----------------------------\")\n",
    "print(f\"Total Months: {total_months}\")\n",
    "print(f\"Total: ${net_change}\")\n",
    "print(f\"Average Change: ${average_change}\")\n",
    "print(f\"Greatest Increase in Profits: {greatest_increase_month} ({greatest_increase})\")\n",
    "print(f\"Greatest Decrease in Profits: {greatest_decrease_month} ({greatest_decrease})\")\n",
    "\n",
    "with open(\"FinancialAnalysis.txt\", 'w') as text_file:\n",
    "    \n",
    "\n",
    "    text_file.write(\"Financial Analysis\\n\")\n",
    "    text_file.write(\"----------------------------\\n\")\n",
    "    text_file.write(f\"Total Months: {total_months}\\n\")\n",
    "    text_file.write(f\"Total: ${net_change}\\n\")\n",
    "    text_file.write(f\"Average Change: ${average_change}\\n\")\n",
    "    text_file.write(f\"Greatest Increase in Profits: {greatest_increase_month} ({greatest_increase})\\n\")\n",
    "    text_file.write(f\"Greatest Decrease in Profits: {greatest_decrease_month} ({greatest_decrease})\\n\")\n",
    "                \n",
    "    \n",
    "          \n",
    "            \n",
    "        \n",
    "        \n"
   ]
  },
  {
   "cell_type": "code",
   "execution_count": 19,
   "metadata": {},
   "outputs": [],
   "source": []
  },
  {
   "cell_type": "code",
   "execution_count": null,
   "metadata": {},
   "outputs": [],
   "source": [
    "\n",
    "    "
   ]
  },
  {
   "cell_type": "code",
   "execution_count": null,
   "metadata": {},
   "outputs": [],
   "source": []
  }
 ],
 "metadata": {
  "kernelspec": {
   "display_name": "Python 3",
   "language": "python",
   "name": "python3"
  },
  "language_info": {
   "codemirror_mode": {
    "name": "ipython",
    "version": 3
   },
   "file_extension": ".py",
   "mimetype": "text/x-python",
   "name": "python",
   "nbconvert_exporter": "python",
   "pygments_lexer": "ipython3",
   "version": "3.8.5"
  }
 },
 "nbformat": 4,
 "nbformat_minor": 4
}
